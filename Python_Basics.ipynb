{
 "cells": [
  {
   "cell_type": "code",
   "execution_count": 1,
   "metadata": {},
   "outputs": [
    {
     "name": "stdout",
     "output_type": "stream",
     "text": [
      "H\n"
     ]
    }
   ],
   "source": [
    "#Strings\n",
    "score = \"HelloWorld\"\n",
    "print(score[0])\n",
    "#Indexing in Python starts from 0"
   ]
  },
  {
   "cell_type": "code",
   "execution_count": 2,
   "metadata": {},
   "outputs": [
    {
     "name": "stdout",
     "output_type": "stream",
     "text": [
      "lloW\n"
     ]
    }
   ],
   "source": [
    "print(score[2:6])\n",
    "#Prints from 2 to 5, last value not printed"
   ]
  },
  {
   "cell_type": "code",
   "execution_count": 3,
   "metadata": {},
   "outputs": [
    {
     "name": "stdout",
     "output_type": "stream",
     "text": [
      "lloWorld\n"
     ]
    }
   ],
   "source": [
    "print(score[2:])\n",
    "#Prints from index position 2 to the end of string"
   ]
  },
  {
   "cell_type": "code",
   "execution_count": 4,
   "metadata": {},
   "outputs": [
    {
     "name": "stdout",
     "output_type": "stream",
     "text": [
      "['hulk', 3.87, 'spiderman', 4]\n"
     ]
    }
   ],
   "source": [
    "#list - Contains elements inside it called items\n",
    "mylist = ['hulk',3.87,'spiderman',4]\n",
    "print(mylist)"
   ]
  },
  {
   "cell_type": "code",
   "execution_count": 6,
   "metadata": {},
   "outputs": [
    {
     "name": "stdout",
     "output_type": "stream",
     "text": [
      "[3.87, 'spiderman']\n"
     ]
    }
   ],
   "source": [
    "print(mylist[1:3])\n",
    "#indexing again from 0 and vales 1 and 2 only printed last value ignored"
   ]
  },
  {
   "cell_type": "code",
   "execution_count": 8,
   "metadata": {},
   "outputs": [
    {
     "name": "stdout",
     "output_type": "stream",
     "text": [
      "('text', 4.8)\n"
     ]
    }
   ],
   "source": [
    "#Tuple -Collection of objects like list, but this is immutable\n",
    "mytuple = ('text',4.8)\n",
    "print(mytuple)"
   ]
  },
  {
   "cell_type": "code",
   "execution_count": 9,
   "metadata": {},
   "outputs": [
    {
     "name": "stdout",
     "output_type": "stream",
     "text": [
      "{'name': 'superman', 'age': 40}\n"
     ]
    }
   ],
   "source": [
    "#Dictionary - Unordered collection of data values, used to store data values like a map, contains key value pairs\n",
    "mydict = {'name':'superman','age':40}\n",
    "print(mydict)"
   ]
  },
  {
   "cell_type": "code",
   "execution_count": 10,
   "metadata": {},
   "outputs": [
    {
     "name": "stdout",
     "output_type": "stream",
     "text": [
      "enter amount of bill700\n",
      "medium party\n"
     ]
    }
   ],
   "source": [
    "#Conditional Statements - If,elif,else\n",
    "bill = int(input(\"enter amount of bill\"))\n",
    "if (bill<=500):\n",
    "    print(\"Small party\")\n",
    "elif (bill>500 & bill<=1000):\n",
    "    print(\"medium party\")\n",
    "else:\n",
    "    print(\"grand party\")"
   ]
  },
  {
   "cell_type": "code",
   "execution_count": 11,
   "metadata": {},
   "outputs": [
    {
     "name": "stdout",
     "output_type": "stream",
     "text": [
      "0\n",
      "1\n",
      "2\n",
      "3\n",
      "4\n",
      "5\n",
      "6\n",
      "7\n",
      "8\n",
      "9\n",
      "10\n",
      "11\n",
      "12\n",
      "13\n",
      "14\n",
      "15\n",
      "16\n",
      "17\n",
      "18\n",
      "19\n",
      "20\n"
     ]
    }
   ],
   "source": [
    "#While-\n",
    "score = 0\n",
    "while(score<=20):\n",
    "    print(score)\n",
    "    score = score+1"
   ]
  },
  {
   "cell_type": "code",
   "execution_count": 13,
   "metadata": {},
   "outputs": [
    {
     "name": "stdout",
     "output_type": "stream",
     "text": [
      "The letter is : H\n",
      "The letter is : e\n",
      "The letter is : l\n",
      "The letter is : l\n",
      "The letter is : o\n",
      "The letter is : w\n",
      "The letter is : o\n",
      "The letter is : r\n",
      "The letter is : l\n",
      "The letter is : d\n"
     ]
    }
   ],
   "source": [
    "#For loop-\n",
    "for i in \"Helloworld\":\n",
    "    print(\"The letter is :\", i)\n",
    "    "
   ]
  },
  {
   "cell_type": "code",
   "execution_count": 17,
   "metadata": {},
   "outputs": [
    {
     "name": "stdout",
     "output_type": "stream",
     "text": [
      "thor\n",
      "iron man\n",
      "hulk\n",
      "captain america\n"
     ]
    }
   ],
   "source": [
    "marvel = ['thor','iron man', 'hulk', 'captain america']\n",
    "for char in marvel:\n",
    "    print(char)"
   ]
  },
  {
   "cell_type": "code",
   "execution_count": 18,
   "metadata": {},
   "outputs": [
    {
     "name": "stdout",
     "output_type": "stream",
     "text": [
      "enter list size3\n",
      "Enter list element1\n",
      "Enter list element2\n",
      "Enter list element3\n",
      "2.0\n"
     ]
    }
   ],
   "source": [
    "#Average of numbers in a list-\n",
    "listsize = int(input(\"enter list size\"))\n",
    "mylist = []\n",
    "for i in range(0,listsize):\n",
    "    mynum = int(input(\"Enter list element\"))\n",
    "    mylist.append(mynum)\n",
    "average = sum(mylist)/listsize\n",
    "print(average)"
   ]
  },
  {
   "cell_type": "code",
   "execution_count": 20,
   "metadata": {},
   "outputs": [
    {
     "name": "stdout",
     "output_type": "stream",
     "text": [
      "12\n",
      "Not Pallindrome\n"
     ]
    }
   ],
   "source": [
    "#Pallindrome -\n",
    "num = int(input())\n",
    "temp = num\n",
    "rev = 0\n",
    "while num>0:\n",
    "    digit= num%10\n",
    "    rev = rev*10+digit\n",
    "    num= num/10\n",
    "if(temp== rev):\n",
    "    print(\"Pallindrome\")\n",
    "else:\n",
    "    print(\"Not Pallindrome\")"
   ]
  },
  {
   "cell_type": "code",
   "execution_count": 23,
   "metadata": {},
   "outputs": [
    {
     "name": "stdout",
     "output_type": "stream",
     "text": [
      "Enter size of identity matrix4\n",
      "1000010000100001"
     ]
    }
   ],
   "source": [
    "#Identity Matrix\n",
    "matsize = int(input(\"Enter size of identity matrix\"))\n",
    "for i in range(0,matsize):\n",
    "    for j in range(0,matsize):\n",
    "        if(i==j):\n",
    "            print(\"1\",sep=' ',end='')\n",
    "#By default print ends with new line but end  = '' tells python to continue in same line and sep ='' adds a whitespace\n",
    "        else:\n",
    "            print(\"0\",sep=' ',end='')"
   ]
  },
  {
   "cell_type": "code",
   "execution_count": 33,
   "metadata": {},
   "outputs": [
    {
     "name": "stdout",
     "output_type": "stream",
     "text": [
      "enter size of list4\n",
      "Enter list element1\n",
      "Enter list element2\n",
      "Enter list element3\n",
      "Enter list element4\n",
      "3\n"
     ]
    }
   ],
   "source": [
    "#Second largest element in list\n",
    "listsize = int(input(\"enter size of list\"))\n",
    "mylist=[]\n",
    "for i in range(0,listsize):\n",
    "    listelement = int(input(\"Enter list element\"))\n",
    "    mylist.append(listelement)\n",
    "mylist.sort()\n",
    "print(mylist[listsize-2])\n",
    "\n",
    "    \n",
    "    "
   ]
  },
  {
   "cell_type": "code",
   "execution_count": 36,
   "metadata": {},
   "outputs": [
    {
     "name": "stdout",
     "output_type": "stream",
     "text": [
      "[1, 2, 3, 4, 4, 5.6, 7]\n"
     ]
    }
   ],
   "source": [
    "#Merging list\n",
    "list1 = [1,2,3,4]\n",
    "list2 = [4,5.6,7]\n",
    "listmerger = list1+list2\n",
    "print(listmerger)"
   ]
  }
 ],
 "metadata": {
  "kernelspec": {
   "display_name": "Python 3",
   "language": "python",
   "name": "python3"
  },
  "language_info": {
   "codemirror_mode": {
    "name": "ipython",
    "version": 3
   },
   "file_extension": ".py",
   "mimetype": "text/x-python",
   "name": "python",
   "nbconvert_exporter": "python",
   "pygments_lexer": "ipython3",
   "version": "3.7.6"
  }
 },
 "nbformat": 4,
 "nbformat_minor": 4
}
